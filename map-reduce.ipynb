{
 "cells": [
  {
   "cell_type": "markdown",
   "metadata": {},
   "source": [
    "# Intro to map/reduce"
   ]
  },
  {
   "cell_type": "markdown",
   "metadata": {},
   "source": [
    "## Lambda function\n",
    "\n",
    "Python allows to create anonymous function, called lambda.\n",
    "Lambda function doesn't include return statement and doesn't have name."
   ]
  },
  {
   "cell_type": "code",
   "execution_count": 1,
   "metadata": {},
   "outputs": [
    {
     "name": "stdout",
     "output_type": "stream",
     "text": [
      "8\n",
      "8\n"
     ]
    }
   ],
   "source": [
    "# Standard function\n",
    "def power(base, exponent):\n",
    "    return base**exponent\n",
    "\n",
    "print(power(2,3))\n",
    "\n",
    "# Lambda construction\n",
    "p = lambda b,e: b**e\n",
    "    \n",
    "print(p(2,3))"
   ]
  },
  {
   "cell_type": "markdown",
   "metadata": {},
   "source": [
    "\n",
    "## filter function"
   ]
  },
  {
   "cell_type": "code",
   "execution_count": 2,
   "metadata": {},
   "outputs": [
    {
     "name": "stdout",
     "output_type": "stream",
     "text": [
      "[0, 1, 2, 3, 4, 5, 6, 7, 8, 9, 10, 11, 12, 13, 14, 15, 16, 17, 18, 19, 20, 21, 22, 23, 24, 25, 26, 27, 28, 29]\n"
     ]
    }
   ],
   "source": [
    "# We use list comprehension to create list with 100 numbers\n",
    "numbers = [x for x in range(30)]\n",
    "print(numbers)"
   ]
  },
  {
   "cell_type": "markdown",
   "metadata": {},
   "source": [
    "The filter resembles a for loop but it is a builtin function and faster.\n",
    "Filter always return an iterator!"
   ]
  },
  {
   "cell_type": "code",
   "execution_count": 5,
   "metadata": {},
   "outputs": [
    {
     "name": "stdout",
     "output_type": "stream",
     "text": [
      "0\n",
      "5\n",
      "10\n",
      "15\n",
      "20\n",
      "25\n"
     ]
    }
   ],
   "source": [
    "# Simple function that return true when the number is divided by 5\n",
    "def is_divided_by_5(number):\n",
    "    if number % 5 == 0:\n",
    "        return True\n",
    "    else:\n",
    "        return False\n",
    "\n",
    "numbers_div5_iterator = filter(is_divided_by_5, numbers)\n",
    "\n",
    "# filter return iterator, so we need use for loop to get all elements\n",
    "for n in numbers_div5_iterator:\n",
    "    print(n)"
   ]
  },
  {
   "cell_type": "code",
   "execution_count": 6,
   "metadata": {},
   "outputs": [
    {
     "name": "stdout",
     "output_type": "stream",
     "text": [
      "0\n",
      "5\n",
      "10\n",
      "15\n",
      "20\n",
      "25\n"
     ]
    }
   ],
   "source": [
    "# Similar code but with lambda construction\n",
    "numbers_div5_iterator = filter(lambda x: x % 5 == 0, numbers)\n",
    "\n",
    "for n in numbers_div5_iterator:\n",
    "    print(n)"
   ]
  },
  {
   "cell_type": "code",
   "execution_count": 7,
   "metadata": {},
   "outputs": [
    {
     "name": "stdout",
     "output_type": "stream",
     "text": [
      "[0, 5, 10, 15, 20, 25]\n",
      "[]\n"
     ]
    }
   ],
   "source": [
    "numbers_div5_iterator = filter(lambda x: x % 5 == 0, numbers)\n",
    "\n",
    "# Simple way to create list from iterator\n",
    "numbers_div5_list = list(numbers_div5_iterator)\n",
    "print(numbers_div5_list)\n",
    "\n",
    "# HINT: iterator can be used only once\n",
    "#       Python's iterator protocol is very simple, and only provides \n",
    "#       one single method (.next() or __next__()), \n",
    "#       and no method to reset an iterator in general.\n",
    "\n",
    "numbers_div5_list = list(numbers_div5_iterator)\n",
    "print(numbers_div5_list)"
   ]
  },
  {
   "cell_type": "code",
   "execution_count": 9,
   "metadata": {},
   "outputs": [
    {
     "name": "stdout",
     "output_type": "stream",
     "text": [
      "[]\n"
     ]
    }
   ],
   "source": [
    "# filter can be used with different type of lists\n",
    "\n",
    "names = ['Anne', 'Amy', 'Cob', 'David', 'Carrie', 'Darbara']\n",
    "names_start_with_b = list(filter(lambda s: s.startswith('B'), names))\n",
    "print(names_start_with_b)"
   ]
  },
  {
   "cell_type": "markdown",
   "metadata": {},
   "source": [
    "## map function\n",
    "\n",
    "Blueprint:   map(function_to_apply, list_of_inputs)"
   ]
  },
  {
   "cell_type": "code",
   "execution_count": 10,
   "metadata": {},
   "outputs": [
    {
     "name": "stdout",
     "output_type": "stream",
     "text": [
      "List1:  [1, 2, 3, 4, 5]\n",
      "List2:  [6, 7, 8, 9, 10]\n",
      "List result:  [7, 9, 11, 13, 15]\n"
     ]
    }
   ],
   "source": [
    "list_1 = [x for x in range(1,6)]\n",
    "list_2 = [x for x in range(6,11)]\n",
    "\n",
    "print('List1: ', list_1)\n",
    "print('List2: ', list_2)\n",
    "list_result = list(map(lambda x,y:x+y, list_1,list_2))\n",
    "print('List result: ', list_result)"
   ]
  },
  {
   "cell_type": "markdown",
   "metadata": {},
   "source": [
    "## reduce function\n",
    "\n",
    "Blueprint:   map(function_to_apply, list_of_inputs)\n",
    "             list_of_inputs = [el_1, el_2, el_3]\n",
    "\n",
    "The function is used to apply a function to all of the list elements. \n",
    "1. At the beginning the first the first two elements of list is applied to the function\n",
    "2. In the next step functiom is applied on the previous result and the third element of the list: function(function(el_1, el_2),el_3)"
   ]
  },
  {
   "cell_type": "code",
   "execution_count": 11,
   "metadata": {},
   "outputs": [
    {
     "name": "stdout",
     "output_type": "stream",
     "text": [
      "List1:  [1, 2, 3, 4, 5]\n",
      "List1 reduced:  15\n",
      "List1 reduced:  15\n"
     ]
    }
   ],
   "source": [
    "from functools import reduce\n",
    "\n",
    "def add(x,y):\n",
    "    return x + y\n",
    "\n",
    "list_1 = [x for x in range(1,6)]\n",
    "\n",
    "print('List1: ', list_1)\n",
    "print('List1 reduced: ', reduce(add, list_1))\n",
    "\n",
    "# The same example using lambda func\n",
    "print('List1 reduced: ', reduce(lambda x,y: x+y, list_1))"
   ]
  },
  {
   "cell_type": "markdown",
   "metadata": {},
   "source": [
    "## TODO"
   ]
  },
  {
   "cell_type": "code",
   "execution_count": 13,
   "metadata": {},
   "outputs": [
    {
     "name": "stdout",
     "output_type": "stream",
     "text": [
      "[6, 5, 6, 7]\n"
     ]
    }
   ],
   "source": [
    "xx = ['Snappy', 'Kitty', 'Jessie', 'Chester']\n",
    "#xx = [1,2,3]\n",
    "\n",
    "# TODO Create a list with the number of character of each word. Use map & len function\n",
    "no_of_char = list(map(lambda x: len(x), xx))\n",
    "print(no_of_char)\n"
   ]
  },
  {
   "cell_type": "code",
   "execution_count": 53,
   "metadata": {},
   "outputs": [
    {
     "name": "stdout",
     "output_type": "stream",
     "text": [
      "['Lorem ipsum dolor sit amet, consectetuer adipiscing elit', ' Donec odio', ' Quisque volutpat mattis eros', ' Nullam malesuada erat ut turpis', ' Suspendisse urna nibh, viverra non, semper suscipit, posuere a, pede', ' Donec nec justo eget felis facilisis fermentum', ' Aliquam porttitor mauris sit amet orci', ' Aenean dignissim pellentesque felis']\n",
      "['Lorem ipsum dolor sit amet consectetuer adipiscing elit', 'Donec odio', 'Quisque volutpat mattis eros', 'Nullam malesuada erat ut turpis', 'Suspendisse urna nibh viverra non semper suscipit posuere a pede', 'Donec nec justo eget felis facilisis fermentum', 'Aliquam porttitor mauris sit amet orci', 'Aenean dignissim pellentesque felis']\n",
      "[8, 2, 4, 5, 10, 7, 6, 4]\n"
     ]
    }
   ],
   "source": [
    "sentences = \"Lorem ipsum dolor sit amet, consectetuer adipiscing elit. Donec odio. \\\n",
    "Quisque volutpat mattis eros. Nullam malesuada erat ut turpis. Suspendisse urna nibh, \\\n",
    "viverra non, semper suscipit, posuere a, pede. \\\n",
    "Donec nec justo eget felis facilisis fermentum. Aliquam porttitor mauris sit amet orci. \\\n",
    "Aenean dignissim pellentesque felis.\"\n",
    "\n",
    "import string\n",
    "sentences = list(filter(None, sentences.split('.')))\n",
    "print(sentences)\n",
    "sentences = list(map(lambda x: (x.strip()).replace(',', ''), sentences))\n",
    "print(sentences)\n",
    "sentences = list(map(lambda x: len(x.split()), sentences))\n",
    "print(sentences)\n",
    "\n",
    "# TODO Find the number of words in the sentence:\n",
    "\n",
    "## Hint:\n",
    "# 1. remove punctuations\n",
    "# 2. split the resulting sentence\n",
    "# 3. map \"1\" to each word of sentence\n",
    "# 4. reduce to find the number of words in the sentence"
   ]
  },
  {
   "cell_type": "code",
   "execution_count": 64,
   "metadata": {
    "scrolled": true
   },
   "outputs": [
    {
     "name": "stdout",
     "output_type": "stream",
     "text": [
      "Apr-04 cola 1 5\n",
      "Dec-15 cola 2 4\n",
      "Feb-02 Sandwith 3 22\n",
      "Mar-03 burger 8 11\n",
      "Feb-22 Sandwith 3 22\n",
      "Feb-23 burger 5 15\n",
      "Mar-08 burger 2 14\n",
      "['Apr-04 cola 1 5', 'Dec-15 cola 2 4', 'Feb-02 Sandwith 3 22', 'Mar-03 burger 8 11', 'Feb-22 Sandwith 3 22', 'Feb-23 burger 5 15', 'Mar-08 burger 2 14']\n",
      "['Apr-04 cola 1 5', 'Dec-15 cola 2 4', 'Feb-02 Sandwith 3 22', 'Mar-03 burger 8 11', 'Feb-22 Sandwith 3 22', 'Feb-23 burger 5 15', 'Mar-08 burger 2 14']\n"
     ]
    }
   ],
   "source": [
    "# Log:  Date product no_of_items price\n",
    "\n",
    "log_1 = \"\"\"Apr-04 cola 1 5\n",
    "Dec-15 cola 2 4\n",
    "Feb-02 Sandwith 3 22\n",
    "Mar-03 burger 8 11\n",
    "Feb-22 Sandwith 3 22\n",
    "Feb-23 burger 5 15\n",
    "Mar-08 burger 2 14\"\"\"    ## Add more examples\n",
    "\n",
    "print(log_1)\n",
    "\n",
    "# TODO Find the best-selling item\n",
    "# TODO Create sales summary  [(product, total_items, average_price), (product, total_items, average_price) ...] \n",
    "log_2 = log_1.split('\\n')\n",
    "print(log_2)\n",
    "\n",
    "def split_remove_first(string_list):\n",
    "    temp = string_list.split()\n",
    "    temp[0] = None\n",
    "    return temp\n",
    "\n",
    "log_3 = list(filter(split_remove_first, log_2))\n",
    "print(log_3)"
   ]
  },
  {
   "cell_type": "markdown",
   "metadata": {},
   "source": [
    "## Miniproject\n",
    "\n",
    "1. Import book, clean the text and get the total number of words\n",
    "https://www.gutenberg.org/files/11/11-0.txt\n",
    "\n",
    "2. Try to run your script with text that include all TOP100 books from https://www.gutenberg.org/browse/scores/top\n",
    "\n",
    "3. What problems could appear during processing? Create a script to measure the execution/processing time. \n"
   ]
  },
  {
   "cell_type": "code",
   "execution_count": null,
   "metadata": {
    "collapsed": true
   },
   "outputs": [],
   "source": []
  }
 ],
 "metadata": {
  "kernelspec": {
   "display_name": "Python 3",
   "language": "python",
   "name": "python3"
  },
  "language_info": {
   "codemirror_mode": {
    "name": "ipython",
    "version": 3
   },
   "file_extension": ".py",
   "mimetype": "text/x-python",
   "name": "python",
   "nbconvert_exporter": "python",
   "pygments_lexer": "ipython3",
   "version": "3.6.1"
  }
 },
 "nbformat": 4,
 "nbformat_minor": 2
}
